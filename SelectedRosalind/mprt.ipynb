{
 "cells": [
  {
   "cell_type": "markdown",
   "metadata": {},
   "source": [
    "Finding a protein motif\n",
    "\n",
    "http://rosalind.info/problems/mprt/"
   ]
  },
  {
   "cell_type": "code",
   "execution_count": 159,
   "metadata": {},
   "outputs": [],
   "source": [
    "from urllib.request import urlopen\n",
    "from Bio import SwissProt\n",
    "from Bio import ExPASy\n",
    "import re\n",
    "with open('C:/Users/amnesia/Desktop/rosalind_mprt(2).txt') as file:\n",
    "    pre_IDs = file.readlines()\n",
    "\n",
    "IDs = []\n",
    "for i in pre_IDs:\n",
    "    IDs.append(i.replace('\\n', ''))"
   ]
  },
  {
   "cell_type": "code",
   "execution_count": 160,
   "metadata": {},
   "outputs": [],
   "source": [
    "def give_motif_positions(accession, txt):\n",
    "    pos_set = ''\n",
    "    pos = 0\n",
    "    while pos < len(txt)-1:\n",
    "        x = re.search(\"N[^P][ST][^P]\", txt[pos:])\n",
    "        if x is not None:\n",
    "            pos += x.span()[0] + 1\n",
    "            pos_set += str(pos) + ' '\n",
    "        else:\n",
    "            break\n",
    "    if len(pos_set) > 0:\n",
    "        print(accession)\n",
    "        print(pos_set)"
   ]
  },
  {
   "cell_type": "code",
   "execution_count": 161,
   "metadata": {},
   "outputs": [
    {
     "name": "stdout",
     "output_type": "stream",
     "text": [
      "P02760_HC_HUMAN\n",
      "36 115 250 \n",
      "P00740_FA9_HUMAN\n",
      "203 213 \n",
      "A1TJ10\n",
      "86 251 \n",
      "P00743_FA10_BOVIN\n",
      "218 \n",
      "P01008_ANT3_HUMAN\n",
      "128 167 187 224 \n",
      "Q5FMJ3\n",
      "15 27 195 \n",
      "Q9QSP4\n",
      "196 250 326 443 \n",
      "P01046_KNL1_BOVIN\n",
      "47 87 168 169 197 204 \n",
      "P01374_TNFB_HUMAN\n",
      "96 \n",
      "P05231_IL6_HUMAN\n",
      "73 172 \n",
      "P40225_TPO_HUMAN\n",
      "197 206 234 255 340 348 \n",
      "P37803\n",
      "110 \n",
      "P01233_CGHB_HUMAN\n",
      "33 50 \n"
     ]
    }
   ],
   "source": [
    "for ID in IDs:\n",
    "    handle = ExPASy.get_sprot_raw(ID)\n",
    "    record = SwissProt.read(handle)\n",
    "    give_motif_positions(ID, record.sequence)"
   ]
  }
 ],
 "metadata": {
  "kernelspec": {
   "display_name": "Python 3 (ipykernel)",
   "language": "python",
   "name": "python3"
  },
  "language_info": {
   "codemirror_mode": {
    "name": "ipython",
    "version": 2
   },
   "file_extension": ".py",
   "mimetype": "text/x-python",
   "name": "python",
   "nbconvert_exporter": "python",
   "pygments_lexer": "ipython2",
   "version": "2.7.16"
  },
  "varInspector": {
   "cols": {
    "lenName": 16,
    "lenType": 16,
    "lenVar": 40
   },
   "kernels_config": {
    "python": {
     "delete_cmd_postfix": "",
     "delete_cmd_prefix": "del ",
     "library": "var_list.py",
     "varRefreshCmd": "print(var_dic_list())"
    },
    "r": {
     "delete_cmd_postfix": ") ",
     "delete_cmd_prefix": "rm(",
     "library": "var_list.r",
     "varRefreshCmd": "cat(var_dic_list()) "
    }
   },
   "types_to_exclude": [
    "module",
    "function",
    "builtin_function_or_method",
    "instance",
    "_Feature"
   ],
   "window_display": false
  }
 },
 "nbformat": 4,
 "nbformat_minor": 4
}
