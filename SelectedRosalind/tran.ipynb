{
 "cells": [
  {
   "cell_type": "markdown",
   "metadata": {},
   "source": [
    "Transitions to transversions ratio\n",
    "\n",
    "http://rosalind.info/problems/tran/"
   ]
  },
  {
   "cell_type": "code",
   "execution_count": 11,
   "metadata": {},
   "outputs": [],
   "source": [
    "with open('C:/Users/amnesia/Desktop/rosalind_tran(1).txt', 'r') as file:\n",
    "    data = file.readlines()\n",
    "\n",
    "seqs = []\n",
    "seq = ''\n",
    "for i in range(1, len(data)):\n",
    "    if data[i][0] == '>':\n",
    "        seqs.append(seq)\n",
    "        seq = ''\n",
    "    else:\n",
    "        seq += data[i].replace('\\n', '')\n",
    "seqs.append(seq)"
   ]
  },
  {
   "cell_type": "code",
   "execution_count": 12,
   "metadata": {},
   "outputs": [
    {
     "name": "stdout",
     "output_type": "stream",
     "text": [
      "1.6695652173913043\n"
     ]
    }
   ],
   "source": [
    "transitions = 0\n",
    "transversions = 0\n",
    "\n",
    "for i in range(len(seqs[0])):\n",
    "    s = seqs[0][i]\n",
    "    t = seqs[1][i]\n",
    "    if s != t:\n",
    "        if (s == 'A' and t == 'G') or (s == 'G' and t == 'A') or (s == 'C' and t == 'T') or (s == 'T' and t == 'C'):\n",
    "            transitions += 1\n",
    "        elif (s == 'A' and t == 'C') or (s == 'C' and t == 'A') or (s == 'A' and t == 'T') or (s == 'T' and t == 'A'):\n",
    "            transversions += 1\n",
    "        elif (s == 'G' and t == 'C') or (s == 'C' and t == 'G') or (s == 'G' and t == 'T') or (s == 'T' and t == 'G'):\n",
    "            transversions += 1\n",
    "\n",
    "print(transitions/transversions)"
   ]
  }
 ],
 "metadata": {
  "kernelspec": {
   "display_name": "Python 3 (ipykernel)",
   "language": "python",
   "name": "python3"
  },
  "language_info": {
   "codemirror_mode": {
    "name": "ipython",
    "version": 2
   },
   "file_extension": ".py",
   "mimetype": "text/x-python",
   "name": "python",
   "nbconvert_exporter": "python",
   "pygments_lexer": "ipython2",
   "version": "2.7.16"
  },
  "varInspector": {
   "cols": {
    "lenName": 16,
    "lenType": 16,
    "lenVar": 40
   },
   "kernels_config": {
    "python": {
     "delete_cmd_postfix": "",
     "delete_cmd_prefix": "del ",
     "library": "var_list.py",
     "varRefreshCmd": "print(var_dic_list())"
    },
    "r": {
     "delete_cmd_postfix": ") ",
     "delete_cmd_prefix": "rm(",
     "library": "var_list.r",
     "varRefreshCmd": "cat(var_dic_list()) "
    }
   },
   "types_to_exclude": [
    "module",
    "function",
    "builtin_function_or_method",
    "instance",
    "_Feature"
   ],
   "window_display": false
  }
 },
 "nbformat": 4,
 "nbformat_minor": 4
}
