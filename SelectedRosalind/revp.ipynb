{
 "cells": [
  {
   "cell_type": "markdown",
   "metadata": {},
   "source": [
    "Locating Restriction Sites\n",
    "\n",
    "http://rosalind.info/problems/revp/"
   ]
  },
  {
   "cell_type": "code",
   "execution_count": 29,
   "metadata": {},
   "outputs": [],
   "source": [
    "dct = {'A':'T', 'C':'G', 'G':'C', 'T':'A'}\n",
    "\n",
    "with open('C:/Users/amnesia/Desktop/rosalind_revp.txt', 'r') as file:\n",
    "    pre_s = file.readlines()\n",
    "    \n",
    "DNA = ''\n",
    "for i in pre_s[1:]:\n",
    "    DNA += i.replace('\\n', '')"
   ]
  },
  {
   "cell_type": "code",
   "execution_count": 30,
   "metadata": {
    "collapsed": true
   },
   "outputs": [
    {
     "name": "stdout",
     "output_type": "stream",
     "text": [
      "1 4\n",
      "21 4\n",
      "28 4\n",
      "44 4\n",
      "49 4\n",
      "65 4\n",
      "115 4\n",
      "166 4\n",
      "170 4\n",
      "181 4\n",
      "210 4\n",
      "253 4\n",
      "258 4\n",
      "283 4\n",
      "293 4\n",
      "297 4\n",
      "301 4\n",
      "314 4\n",
      "341 4\n",
      "344 4\n",
      "351 4\n",
      "352 4\n",
      "358 4\n",
      "423 4\n",
      "428 4\n",
      "449 4\n",
      "474 4\n",
      "531 4\n",
      "553 4\n",
      "572 4\n",
      "584 4\n",
      "600 4\n",
      "612 4\n",
      "621 4\n",
      "646 4\n",
      "660 4\n",
      "674 4\n",
      "686 4\n",
      "691 4\n",
      "708 4\n",
      "721 4\n",
      "724 4\n",
      "725 4\n",
      "744 4\n",
      "749 4\n",
      "753 4\n",
      "760 4\n",
      "774 4\n",
      "776 4\n",
      "811 4\n",
      "822 4\n",
      "898 4\n",
      "916 4\n",
      "947 4\n",
      "27 6\n",
      "64 6\n",
      "165 6\n",
      "180 6\n",
      "252 6\n",
      "340 6\n",
      "422 6\n",
      "427 6\n",
      "448 6\n",
      "473 6\n",
      "611 6\n",
      "685 6\n",
      "707 6\n",
      "743 6\n",
      "821 6\n",
      "26 8\n",
      "63 8\n",
      "251 8\n",
      "472 8\n",
      "610 8\n",
      "62 10\n",
      "471 10\n",
      "470 12\n"
     ]
    }
   ],
   "source": [
    "for v in [4, 6, 8, 10, 12]:\n",
    "    for i in range(len(DNA)-v+1):\n",
    "        cDNA = '' \n",
    "        for j in DNA[i:i+v][::-1]:\n",
    "            cDNA += dct[j]\n",
    "        if cDNA == DNA[i:i+v]:\n",
    "            print(i+1, v)"
   ]
  }
 ],
 "metadata": {
  "kernelspec": {
   "display_name": "Python 3 (ipykernel)",
   "language": "python",
   "name": "python3"
  },
  "language_info": {
   "codemirror_mode": {
    "name": "ipython",
    "version": 2
   },
   "file_extension": ".py",
   "mimetype": "text/x-python",
   "name": "python",
   "nbconvert_exporter": "python",
   "pygments_lexer": "ipython2",
   "version": "2.7.16"
  },
  "varInspector": {
   "cols": {
    "lenName": 16,
    "lenType": 16,
    "lenVar": 40
   },
   "kernels_config": {
    "python": {
     "delete_cmd_postfix": "",
     "delete_cmd_prefix": "del ",
     "library": "var_list.py",
     "varRefreshCmd": "print(var_dic_list())"
    },
    "r": {
     "delete_cmd_postfix": ") ",
     "delete_cmd_prefix": "rm(",
     "library": "var_list.r",
     "varRefreshCmd": "cat(var_dic_list()) "
    }
   },
   "types_to_exclude": [
    "module",
    "function",
    "builtin_function_or_method",
    "instance",
    "_Feature"
   ],
   "window_display": false
  }
 },
 "nbformat": 4,
 "nbformat_minor": 4
}
