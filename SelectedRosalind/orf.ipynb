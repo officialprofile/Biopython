{
 "cells": [
  {
   "cell_type": "markdown",
   "metadata": {},
   "source": [
    "Open reading frames\n",
    "http://rosalind.info/problems/orf/"
   ]
  },
  {
   "cell_type": "code",
   "execution_count": 1,
   "metadata": {},
   "outputs": [],
   "source": [
    "import re\n",
    "\n",
    "dct = {'UUU': 'F','CUU': 'L','AUU': 'I','GUU': 'V','UUC': 'F','CUC': 'L','AUC': 'I','GUC': 'V',\n",
    "     'UUA': 'L','CUA': 'L','AUA': 'I','GUA': 'V','UUG': 'L','CUG': 'L','AUG': 'M','GUG': 'V',\n",
    "     'UCU': 'S','CCU': 'P','ACU': 'T','GCU': 'A','UCC': 'S','CCC': 'P','ACC': 'T','GCC': 'A',\n",
    "     'UCA': 'S','CCA': 'P','ACA': 'T','GCA': 'A','UCG': 'S','CCG': 'P','ACG': 'T','GCG': 'A',\n",
    "     'UAU': 'Y','CAU': 'H','AAU': 'N','GAU': 'D','UAC': 'Y','CAC': 'H','AAC': 'N','GAC': 'D',\n",
    "     'UAA': 'x','CAA': 'Q','AAA': 'K','GAA': 'E','UAG': 'x','CAG': 'Q','AAG': 'K','GAG': 'E',\n",
    "     'UGU': 'C','CGU': 'R','AGU': 'S','GGU': 'G','UGC': 'C','CGC': 'R','AGC': 'S','GGC': 'G',\n",
    "     'UGA': 'x','CGA': 'R','AGA': 'R','GGA': 'G','UGG': 'W','CGG': 'R','AGG': 'R','GGG': 'G' }\n",
    "\n",
    "comp = {'A':'T', 'C':'G', 'G':'C', 'T':'A'}"
   ]
  },
  {
   "cell_type": "code",
   "execution_count": 2,
   "metadata": {},
   "outputs": [],
   "source": [
    "def RNA_to_protein(seq, orf):\n",
    "    prt = ''\n",
    "    for i in range(orf, len(seq) - orf, 3):\n",
    "        if i+3 >= len(seq):\n",
    "            break\n",
    "        prt += dct[seq[i:i+3]]\n",
    "    return prt\n",
    "\n",
    "def find_all(s, c):\n",
    "    idx = s.find(c)\n",
    "    while idx != -1:\n",
    "        yield idx\n",
    "        idx = s.find(c, idx + 1)"
   ]
  },
  {
   "cell_type": "code",
   "execution_count": 66,
   "metadata": {},
   "outputs": [],
   "source": [
    "with open('C:/Users/amnesia/Desktop/rosalind_orf(1).txt', 'r') as file:\n",
    "    data = file.readlines()\n",
    "\n",
    "DNA = ''\n",
    "for i in data[1:]:\n",
    "    DNA += i.replace('\\n', '')\n",
    "\n",
    "RNA = DNA.replace('T', 'U')\n",
    "\n",
    "cDNA = ''\n",
    "for i in DNA:\n",
    "    cDNA += comp[i]   \n",
    "\n",
    "rev_RNA = cDNA[::-1].replace('T', 'U')"
   ]
  },
  {
   "cell_type": "code",
   "execution_count": 67,
   "metadata": {},
   "outputs": [],
   "source": [
    "protein = []\n",
    "for seq in [RNA, rev_RNA]:\n",
    "    for orf in [0, 1, 2]:\n",
    "        protein.append(RNA_to_protein(seq, orf))"
   ]
  },
  {
   "cell_type": "code",
   "execution_count": 68,
   "metadata": {},
   "outputs": [
    {
     "name": "stdout",
     "output_type": "stream",
     "text": [
      "MNIIVRMAPI\n",
      "MAPI\n",
      "MGGKVDINGNQVNRSR\n",
      "MYSQTRTHCSPLKMGATLLYPGPHSCDAPVSPKTLIAIKVFGDTGASGACERRSLSVSTHIPYHALIMIWVHLTTIDSAISAISPTFE\n",
      "MGATLLYPGPHSCDAPVSPKTLIAIKVFGDTGASGACERRSLSVSTHIPYHALIMIWVHLTTIDSAISAISPTFE\n",
      "MIWVHLTTIDSAISAISPTFE\n",
      "MCLQSDRIHYS\n",
      "M\n",
      "MIKL\n",
      "MVTKLIVVGRPLDVYLV\n",
      "MHQCLQRP\n",
      "MP\n",
      "MPNVFIPWRTSGS\n",
      "MCTLSNRRRVMTCILDRSPP\n",
      "MTCILDRSPP\n",
      "MPPPELCSIVSSLRLRMRRNSASTHRRNMYVQSDQNPLLTTQDGRHAALPRPTLL\n",
      "MRRNSASTHRRNMYVQSDQNPLLTTQDGRHAALPRPTLL\n",
      "MYVQSDQNPLLTTQDGRHAALPRPTLL\n",
      "MIIRRLAYLVVRRRNQYFYVFTKRQDTL\n",
      "MLCLTSLSRGVQAGADLVKT\n",
      "MTPEFALEDNNYNLEPSDRIATPNCFLASLSTNTYPRY\n",
      "MAESIVVRCTQIIIKAW\n",
      "MCTRTVPSHP\n",
      "MAYLLRLTWLPFISTLPPIKTG\n",
      "MI\n",
      "MIIQMWVRLLIWPSR\n",
      "MWVRLLIWPSR\n",
      "MHQCLQRP\n",
      "MFRLCVLALFLRILNRNDDTIEHNSGGGIHLNV\n",
      "MTRRLLDKVHI\n",
      "MYPVAL\n",
      "MRAAG\n",
      "MHPDHY\n",
      "MVRYMR\n",
      "MR\n",
      "MGSGLTVHTCFAYVYSHCSFASLIVMMIRSNTTLVAAST\n",
      "MMIRSNTTLVAAST\n",
      "MIRSNTTLVAAST\n",
      "MFSCA\n"
     ]
    }
   ],
   "source": [
    "for p in protein:\n",
    "    i1 = list(find_all(p, 'M'))\n",
    "    i2 = list(find_all(p, 'x'))\n",
    "    for i in i1:\n",
    "        for j in i2:\n",
    "            if i < j and p[i:j].find('x') == -1:\n",
    "                print(p[i:j])"
   ]
  }
 ],
 "metadata": {
  "kernelspec": {
   "display_name": "Python 3 (ipykernel)",
   "language": "python",
   "name": "python3"
  },
  "language_info": {
   "codemirror_mode": {
    "name": "ipython",
    "version": 2
   },
   "file_extension": ".py",
   "mimetype": "text/x-python",
   "name": "python",
   "nbconvert_exporter": "python",
   "pygments_lexer": "ipython2",
   "version": "2.7.16"
  },
  "varInspector": {
   "cols": {
    "lenName": 16,
    "lenType": 16,
    "lenVar": 40
   },
   "kernels_config": {
    "python": {
     "delete_cmd_postfix": "",
     "delete_cmd_prefix": "del ",
     "library": "var_list.py",
     "varRefreshCmd": "print(var_dic_list())"
    },
    "r": {
     "delete_cmd_postfix": ") ",
     "delete_cmd_prefix": "rm(",
     "library": "var_list.r",
     "varRefreshCmd": "cat(var_dic_list()) "
    }
   },
   "types_to_exclude": [
    "module",
    "function",
    "builtin_function_or_method",
    "instance",
    "_Feature"
   ],
   "window_display": false
  }
 },
 "nbformat": 4,
 "nbformat_minor": 4
}
