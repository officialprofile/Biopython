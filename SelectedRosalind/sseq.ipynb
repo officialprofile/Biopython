{
 "cells": [
  {
   "cell_type": "markdown",
   "metadata": {},
   "source": [
    "FInding a spliced motif http://rosalind.info/problems/sseq/"
   ]
  },
  {
   "cell_type": "code",
   "execution_count": 15,
   "metadata": {},
   "outputs": [],
   "source": [
    "with open('C:/Users/amnesia/Desktop/rosalind_sseq(2).txt', 'r') as file:\n",
    "    data = file.readlines()\n",
    "\n",
    "sequence = []\n",
    "seq = ''\n",
    "for i in data[1:]:\n",
    "    if i[0] == '>':\n",
    "        sequence.append(seq)\n",
    "        seq = ''\n",
    "    else:\n",
    "        seq += i.strip('\\n')\n",
    "sequence.append(seq)"
   ]
  },
  {
   "cell_type": "code",
   "execution_count": 16,
   "metadata": {},
   "outputs": [
    {
     "data": {
      "text/plain": [
       "['GTCGCTCAGAGTATTGCGACCGTACCCAAGGTAGCAGATCTCTGTCGTAAGGGTATTTCCAGATGAAAGTGGGCAGACGCTTCCCCACACCTTTAAAGCAGCAGACCGAAGTGTCTTTCAACGCTAACGGTCGACGTACTTGAATAGAGGCCCGAAGGACAACTTCAGCGCGGCTAATGAGCTATGTGTTCAGACGCTGCTTAGGATATGCGTGAGAGACAAATCCTGTATTGACTGGTACTCCTTTGGGGGCGATTCAAAATTTTACGGATATAGAGTGGTAGTACACTGGGTCCATCCTATATGTGAGATGGAATCCTTACATCGCCGTTATGGACTTTCCATATAATGAAGGAGTTCGTAGTATAGTTTGGAGGTGTTCAAAGGCTACTATGTGCTTAACATTATAAGCGACCCGTCACGTTACGTCATTTATCCGAAATGTCCTTAATAAGGTTTCAGAAAGAACCGCAACCTGCTGCTGAATGTGGCCCCCTCTGGCCGAGTCGCCCAGCAAATAGTGGTTTTTCTTGGAGCGCCGCGATCGCATCCGAGATACGCCCCAATGAGAAGAGAGTGGCACCCGTTGTTTTGTCTTATAGAGAACGTTATAGGTATCCAATGTTACAAAACCAGCCGAAGATCCGGTAGATTGGTGGATCGGGTGGGGACTGTTGGTGTGAAGCGGGGTAGGTCGATGGATGCAAGCAGCTACGTTTAAGTCACGTGGCCAATTTTGTCGAAGCATTTCATGCCTATTCAGCACAAATATGCATGCACGTGAAAGATGACTTTATAAACGCTGGAAGGATTGCGGGCGAGGAATCGACATGTGCTGGACGGAAGTGCTTCCAGTTGGGGACTATGTAAGATACAGTATTTATTGCCCTGTCCAGCCGATTTCTCAGAAAGGTC',\n",
       " 'CGCGGGTGACATATTCAAGTAATAATCCGGGGACGGAAAAAT']"
      ]
     },
     "execution_count": 16,
     "metadata": {},
     "output_type": "execute_result"
    }
   ],
   "source": [
    "sequence"
   ]
  },
  {
   "cell_type": "code",
   "execution_count": 17,
   "metadata": {},
   "outputs": [
    {
     "name": "stdout",
     "output_type": "stream",
     "text": [
      "[2, 3, 4, 8, 10, 15, 22, 29, 32, 34, 35, 38, 48, 53, 55, 58, 60, 62, 64, 69, 74, 76, 80, 86, 88, 91, 98, 101, 103, 107, 110, 112, 119, 121, 122, 128, 133, 137, 142, 143, 145, 163]\n"
     ]
    }
   ],
   "source": [
    "indices = []\n",
    "index = 0\n",
    "for s in sequence[1]:\n",
    "    while s != sequence[0][index]:\n",
    "        index += 1\n",
    "    indices.append(index)\n",
    "    index += 1\n",
    "    \n",
    "print(indices)"
   ]
  },
  {
   "cell_type": "code",
   "execution_count": 18,
   "metadata": {},
   "outputs": [],
   "source": [
    "x = ''\n",
    "for i in indices:\n",
    "    x += str(i + 1) + ' '"
   ]
  },
  {
   "cell_type": "code",
   "execution_count": 19,
   "metadata": {},
   "outputs": [
    {
     "name": "stdout",
     "output_type": "stream",
     "text": [
      "3 4 5 9 11 16 23 30 33 35 36 39 49 54 56 59 61 63 65 70 75 77 81 87 89 92 99 102 104 108 111 113 120 122 123 129 134 138 143 144 146 164 \n"
     ]
    }
   ],
   "source": [
    "print(x)"
   ]
  }
 ],
 "metadata": {
  "kernelspec": {
   "display_name": "Python 3 (ipykernel)",
   "language": "python",
   "name": "python3"
  },
  "language_info": {
   "codemirror_mode": {
    "name": "ipython",
    "version": 2
   },
   "file_extension": ".py",
   "mimetype": "text/x-python",
   "name": "python",
   "nbconvert_exporter": "python",
   "pygments_lexer": "ipython2",
   "version": "2.7.16"
  },
  "varInspector": {
   "cols": {
    "lenName": 16,
    "lenType": 16,
    "lenVar": 40
   },
   "kernels_config": {
    "python": {
     "delete_cmd_postfix": "",
     "delete_cmd_prefix": "del ",
     "library": "var_list.py",
     "varRefreshCmd": "print(var_dic_list())"
    },
    "r": {
     "delete_cmd_postfix": ") ",
     "delete_cmd_prefix": "rm(",
     "library": "var_list.r",
     "varRefreshCmd": "cat(var_dic_list()) "
    }
   },
   "types_to_exclude": [
    "module",
    "function",
    "builtin_function_or_method",
    "instance",
    "_Feature"
   ],
   "window_display": false
  }
 },
 "nbformat": 4,
 "nbformat_minor": 4
}
