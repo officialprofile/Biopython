{
 "cells": [
  {
   "cell_type": "markdown",
   "metadata": {},
   "source": [
    "Creating a distance matrix http://rosalind.info/problems/pdst/"
   ]
  },
  {
   "cell_type": "code",
   "execution_count": 43,
   "metadata": {},
   "outputs": [],
   "source": [
    "import numpy as np\n",
    "\n",
    "with open('C:/Users/amnesia/Desktop/rosalind_pdst(1).txt', 'r') as file:\n",
    "    ds = file.readlines()\n",
    "\n",
    "seqs = []\n",
    "seq = ''\n",
    "for line in ds[1:]:\n",
    "    if line[0] == '>':\n",
    "        seqs.append(seq)\n",
    "        seq = ''\n",
    "    else:\n",
    "        seq += line.strip('\\n')\n",
    "seqs.append(seq)\n",
    "n = len(seqs)\n",
    "distances = np.zeros((n, n))"
   ]
  },
  {
   "cell_type": "code",
   "execution_count": 44,
   "metadata": {},
   "outputs": [],
   "source": [
    "for i in range(n):\n",
    "    for j in range(n):\n",
    "        d = 0\n",
    "        for k in range(len(seqs[i])):\n",
    "            if seqs[i][k] != seqs[j][k]:\n",
    "                d += 1\n",
    "        distances[i,j] = round(d/len(seqs[i]), 5)     \n",
    "        "
   ]
  },
  {
   "cell_type": "code",
   "execution_count": 45,
   "metadata": {},
   "outputs": [
    {
     "name": "stdout",
     "output_type": "stream",
     "text": [
      "0.0 0.30508 0.55327 0.63559 0.47337 0.65738 0.66465 0.47458 0.57143\n",
      "0.30508 0.0 0.49637 0.59322 0.32203 0.64286 0.62833 0.31114 0.50121\n",
      "0.55327 0.49637 0.0 0.33051 0.31961 0.48789 0.50121 0.57748 0.50363\n",
      "0.63559 0.59322 0.33051 0.0 0.48547 0.30508 0.33656 0.61259 0.58475\n",
      "0.47337 0.32203 0.31961 0.48547 0.0 0.59564 0.60048 0.47458 0.31114\n",
      "0.65738 0.64286 0.48789 0.30508 0.59564 0.0 0.48305 0.65738 0.63923\n",
      "0.66465 0.62833 0.50121 0.33656 0.60048 0.48305 0.0 0.66586 0.64649\n",
      "0.47458 0.31114 0.57748 0.61259 0.47458 0.65738 0.66586 0.0 0.57385\n",
      "0.57143 0.50121 0.50363 0.58475 0.31114 0.63923 0.64649 0.57385 0.0\n"
     ]
    }
   ],
   "source": [
    "for i in range(n):\n",
    "    print(*distances[i,])"
   ]
  }
 ],
 "metadata": {
  "kernelspec": {
   "display_name": "Python 3 (ipykernel)",
   "language": "python",
   "name": "python3"
  },
  "language_info": {
   "codemirror_mode": {
    "name": "ipython",
    "version": 2
   },
   "file_extension": ".py",
   "mimetype": "text/x-python",
   "name": "python",
   "nbconvert_exporter": "python",
   "pygments_lexer": "ipython2",
   "version": "2.7.16"
  },
  "varInspector": {
   "cols": {
    "lenName": 16,
    "lenType": 16,
    "lenVar": 40
   },
   "kernels_config": {
    "python": {
     "delete_cmd_postfix": "",
     "delete_cmd_prefix": "del ",
     "library": "var_list.py",
     "varRefreshCmd": "print(var_dic_list())"
    },
    "r": {
     "delete_cmd_postfix": ") ",
     "delete_cmd_prefix": "rm(",
     "library": "var_list.r",
     "varRefreshCmd": "cat(var_dic_list()) "
    }
   },
   "types_to_exclude": [
    "module",
    "function",
    "builtin_function_or_method",
    "instance",
    "_Feature"
   ],
   "window_display": false
  }
 },
 "nbformat": 4,
 "nbformat_minor": 4
}
