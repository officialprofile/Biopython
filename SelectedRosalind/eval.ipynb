{
 "cells": [
  {
   "cell_type": "markdown",
   "metadata": {},
   "source": [
    "Expected number of restriction sites http://rosalind.info/problems/eval/"
   ]
  },
  {
   "cell_type": "code",
   "execution_count": 35,
   "metadata": {},
   "outputs": [],
   "source": [
    "n = 851505\n",
    "string = 'ATTCTAAACC'\n",
    "CG = list(map(float, '0.000 0.108 0.130 0.202 0.256 0.282 0.341 0.438 0.499 0.534 0.598 0.648 0.677 0.760 0.791 0.862 0.938 1.000'.split()))\n",
    "m = n - len(string) + 1"
   ]
  },
  {
   "cell_type": "code",
   "execution_count": 38,
   "metadata": {},
   "outputs": [
    {
     "name": "stdout",
     "output_type": "stream",
     "text": [
      "0.0\n",
      "0.471\n",
      "0.689\n",
      "1.412\n",
      "1.76\n",
      "1.834\n",
      "1.78\n",
      "1.237\n",
      "0.819\n",
      "0.604\n",
      "0.302\n",
      "0.151\n",
      "0.095\n",
      "0.017\n",
      "0.007\n",
      "0.001\n",
      "0.0\n",
      "0.0\n"
     ]
    }
   ],
   "source": [
    "for i in range(len((CG))):\n",
    "    dct = {'A':(1-CG[i])/2, 'T':(1-CG[i])/2, 'C':(CG[i])/2, 'G':(CG[i])/2}\n",
    "    prob = 1\n",
    "    for s in string:\n",
    "        prob *= dct[s]\n",
    "    print(round(prob*m, 3))"
   ]
  }
 ],
 "metadata": {
  "kernelspec": {
   "display_name": "Python 3 (ipykernel)",
   "language": "python",
   "name": "python3"
  },
  "language_info": {
   "codemirror_mode": {
    "name": "ipython",
    "version": 2
   },
   "file_extension": ".py",
   "mimetype": "text/x-python",
   "name": "python",
   "nbconvert_exporter": "python",
   "pygments_lexer": "ipython2",
   "version": "2.7.16"
  },
  "varInspector": {
   "cols": {
    "lenName": 16,
    "lenType": 16,
    "lenVar": 40
   },
   "kernels_config": {
    "python": {
     "delete_cmd_postfix": "",
     "delete_cmd_prefix": "del ",
     "library": "var_list.py",
     "varRefreshCmd": "print(var_dic_list())"
    },
    "r": {
     "delete_cmd_postfix": ") ",
     "delete_cmd_prefix": "rm(",
     "library": "var_list.r",
     "varRefreshCmd": "cat(var_dic_list()) "
    }
   },
   "types_to_exclude": [
    "module",
    "function",
    "builtin_function_or_method",
    "instance",
    "_Feature"
   ],
   "window_display": false
  }
 },
 "nbformat": 4,
 "nbformat_minor": 4
}
